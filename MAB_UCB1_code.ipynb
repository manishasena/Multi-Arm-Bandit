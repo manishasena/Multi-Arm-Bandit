{
 "cells": [
  {
   "cell_type": "markdown",
   "metadata": {},
   "source": [
    "# Implementation of: A Bandit Approach to Multiple Testing with False Discovery Control\n",
    "By Kevin Jamieson, Lalit Jain"
   ]
  },
  {
   "cell_type": "markdown",
   "metadata": {},
   "source": [
    "## User Inputs"
   ]
  },
  {
   "cell_type": "code",
   "execution_count": 8,
   "metadata": {},
   "outputs": [],
   "source": [
    "# Number of arms\n",
    "n = 5\n",
    "\n",
    "# Variance\n",
    "variance = 1\n",
    "\n",
    "# Acquisition function\n",
    "acq_func = \"UCB1\" #Used in paper\n",
    "#acq_func = \"UCB1_Normal\"\n",
    "\n",
    "# Sample Budget\n",
    "B = 600\n",
    "\n",
    "# Sampling method\n",
    "#sample_method = \"Uniform\"\n",
    "sample_method = \"Adaptive\"\n",
    "\n",
    "# Threshold for prediction\n",
    "mean_threshold = 0.5\n",
    "\n",
    "# False Discovery Rate\n",
    "delta = 0.1\n",
    "\n",
    "# TPR\n",
    "TPR = True\n",
    "\n",
    "# Coefficient in front of confidence function\n",
    "c = 4\n",
    "\n",
    "# Initial sampling\n",
    "initial_loop = 2\n",
    "\n",
    "# Visualise plots\n",
    "visualise = True\n",
    "\n",
    "# Plot out every 'how  many' iterations\n",
    "plot_n = 100"
   ]
  },
  {
   "cell_type": "markdown",
   "metadata": {},
   "source": [
    "### Plotting confidence bound reduction over number of arm pulls"
   ]
  },
  {
   "cell_type": "code",
   "execution_count": 22,
   "metadata": {},
   "outputs": [
    {
     "data": {
      "image/png": "[encoded data removed]",
      "text/plain": [
       "<Figure size 432x288 with 1 Axes>"
      ]
     },
     "metadata": {},
     "output_type": "display_data"
    }
   ],
   "source": [
    "#delta_dash = delta\n",
    "delta_dash = delta/(6.4*np.log(36/delta))\n",
    "t = np.linspace(1,B)\n",
    "y = np.sqrt((c*np.log(np.log2(2*t)/delta))/t)\n",
    "\n",
    "plt.plot(t,y)\n",
    "plt.title([\"delta: \" +str(delta) + \" c:\" + str(c)])\n",
    "plt.xlabel(\"Number of arm pulls\")\n",
    "plt.ylabel(\"UCB1 Confidence Interval\")\n",
    "plt.show()"
   ]
  },
  {
   "cell_type": "markdown",
   "metadata": {},
   "source": [
    "## Set up Code"
   ]
  },
  {
   "cell_type": "code",
   "execution_count": 29,
   "metadata": {},
   "outputs": [],
   "source": [
    "import numpy as np\n",
    "import matplotlib.pyplot as plt\n",
    "\n",
    "# CLASS: BANDIT to store information about each bandit in the game\n",
    "class Bandit:\n",
    "\n",
    "    def __init__(self,n,bandit_number):\n",
    "\n",
    "            self.true_mean = (bandit_number)/n\n",
    "            self.true_variance = variance\n",
    "\n",
    "            self.sample_mean = 0\n",
    "            self.bandit_trial = 0\n",
    "            \n",
    "            self.q = 0\n",
    "\n",
    "\n",
    "    def Sample_Bandit(self):\n",
    "        \n",
    "        # Update number of trials of bandit\n",
    "        self.bandit_trial += 1\n",
    "\n",
    "        # Pull arm and return reward\n",
    "        reward = np.random.normal(self.true_mean, self.true_variance,1)\n",
    "\n",
    "        # Update bandit sample mean\n",
    "        self.sample_mean = self.sample_mean + (reward - self.sample_mean)/self.bandit_trial\n",
    "        \n",
    "        # Updated sum of squared rewards\n",
    "        self.q = self.q + reward**2\n",
    "\n",
    "        return reward\n",
    "\n",
    "\n",
    "# CLASS: GAME to store results of game (made up of bandits)\n",
    "class Game:\n",
    "\n",
    "    def __init__(self,n,acq_func,delta,TPR):\n",
    "        \n",
    "        self.n = n\n",
    "        self.total_trials = 0\n",
    "        self.St = {}\n",
    "        \n",
    "        if TPR == True:\n",
    "            e_t = 1\n",
    "            v_t = 1\n",
    "            \n",
    "            \n",
    "        self.bandit_dictionary = {}\n",
    "\n",
    "        # Create each bandit \n",
    "        for i in range(self.n):\n",
    "            self.bandit_dictionary[str(i+1)] = {}\n",
    "            self.bandit_dictionary[str(i+1)] = Bandit(self.n,i+1)\n",
    "        \n",
    "        # Conduct and initial sample from each bandit\n",
    "        \n",
    "        for il in range(initial_loop):\n",
    "            for i in range(self.n):\n",
    "                self.bandit_dictionary[str(i+1)].Sample_Bandit()\n",
    "                self.total_trials += 1\n",
    "            \n",
    "        #Plot distribution\n",
    "        \n",
    "        #print('trial' + str(self.total_trials))\n",
    "        y = np.zeros([1,self.n]).reshape(-1,)\n",
    "        no_pulls = np.zeros([1,self.n]).reshape(-1,)\n",
    "        for i in range(self.n):\n",
    "            y[i] = self.bandit_dictionary[str(i+1)].sample_mean\n",
    "            no_pulls[i] = self.bandit_dictionary[str(i+1)].bandit_trial \n",
    "\n",
    "        print('trial: ' + str(self.total_trials))\n",
    "        print('Number of arm pulls: ' + str(no_pulls))\n",
    "        if visualise == True:\n",
    "            plt = Game.Visualise(self,y,delta,mean_threshold,acq_func)\n",
    "            plt.show()\n",
    "\n",
    "        # Sample according to sampling method\n",
    "        if sample_method == \"Uniform\":\n",
    "            times = int(B/self.n)\n",
    "            for j in range(times):\n",
    "                for i in range(self.n):\n",
    "                    self.bandit_dictionary[str(i+1)].Sample_Bandit()\n",
    "                    self.total_trials += 1\n",
    "        else:\n",
    "            while self.total_trials < B:\n",
    "                \n",
    "                #Select next arm to sample\n",
    "                acq_value = -1000\n",
    "                arm_next = 1\n",
    "                \n",
    "                for i in range(self.n):\n",
    "                    if ((i+1) not in self.St):\n",
    "\n",
    "                        bandit_info = self.bandit_dictionary[str(i+1)]\n",
    "                        \n",
    "                        I =  bandit_info.sample_mean + Game.Confidence_Interval(self,bandit_info,delta/e_t,c,acq_func)\n",
    "                        if I > acq_value:\n",
    "                            acq_value = I\n",
    "                            arm_next = i+1\n",
    "                \n",
    "                # Pull the selected arm\n",
    "                self.bandit_dictionary[str(arm_next)].Sample_Bandit()\n",
    "                self.total_trials += 1\n",
    "                \n",
    "                # Update St\n",
    "                self = Game.Update_St(self,delta,acq_func)\n",
    "                \n",
    "                #Plot distribution\n",
    "                if self.total_trials % plot_n == 0:\n",
    "                    print('trial: ' + str(self.total_trials))\n",
    "                    y = np.zeros([1,self.n]).reshape(-1,)\n",
    "                    no_pulls = np.zeros([1,self.n]).reshape(-1,)\n",
    "                    for i in range(self.n):\n",
    "                        y[i] = self.bandit_dictionary[str(i+1)].sample_mean\n",
    "                        no_pulls[i] = self.bandit_dictionary[str(i+1)].bandit_trial \n",
    "\n",
    "                    print('Number of arm pulls: ' + str(no_pulls))\n",
    "                    if visualise == True:\n",
    "                        plt = Game.Visualise(self,y,delta,mean_threshold,acq_func)\n",
    "                        plt.show()\n",
    "                    \n",
    "    \n",
    "    def Visualise(self,mean,delta,mu_threshold,acq_func):\n",
    "    \n",
    "        plt.style.use('seaborn-whitegrid')\n",
    "        x = np.linspace(1,self.n,self.n)\n",
    "        color = ['g','r','b','k','y','m']\n",
    "        ranges = np.linspace(n,0,n)\n",
    "        \n",
    "        delta_dash = delta/(6.4*np.log(36/delta))\n",
    "        #delta_dash = delta\n",
    "        \n",
    "        dy = np.zeros([1,self.n]).reshape(-1,)\n",
    "        for k in ranges:\n",
    "            k = int(k)\n",
    "            for i in range(self.n):\n",
    "                dy[i] = Game.Confidence_Interval(self,self.bandit_dictionary[str(i+1)],delta_dash*(k+1)/self.n,c,acq_func)\n",
    "            \n",
    "            #plt.errorbar(x, mean, yerr=dy, fmt='o', color='black',ecolor=color[k], elinewidth=20-3*k, capsize=20-3*k)\n",
    "            plt.errorbar(x, mean, yerr=dy, fmt='o', color='black',ecolor=color[k], elinewidth=3*k+1, capsize=3*k+1)\n",
    "\n",
    "        plt.axhline(mu_threshold)\n",
    "\n",
    "        return plt\n",
    "    \n",
    "    def Confidence_Interval(self,bandit_info,d,c,acq_func):\n",
    "        \n",
    "        t = bandit_info.bandit_trial\n",
    "        mean = bandit_info.sample_mean\n",
    "        \n",
    "        if acq_func == \"UCB1\":\n",
    "            Confidence_value = np.sqrt((c*np.log(np.log2(2*t)/d))/(t))\n",
    "            \n",
    "        elif acq_func == \"UCB1_Normal\":\n",
    "            \n",
    "            q = bandit_info.q\n",
    "            term1 = (np.sum(q) - t*mean**2)/(t-1)\n",
    "            term2 = np.log(self.total_trials - 1)/t\n",
    "            Confidence_value = np.sqrt(16*term1*term2)\n",
    "        \n",
    "        return Confidence_value\n",
    "    \n",
    "    def Update_St(self, delta,acq_func):\n",
    "        \n",
    "        # Apply Benjamini-Hochberg\n",
    "        delta_dash = delta/(6.4*np.log(36/delta))\n",
    "        #delta_dash = delta\n",
    " \n",
    "        # Discover St set\n",
    "        K_LENGTH = 0\n",
    "        for k in range(self.n):\n",
    "            \n",
    "            k_list = list()\n",
    "            \n",
    "            for i in range(self.n):\n",
    "            \n",
    "                bandit_info = self.bandit_dictionary[str(i+1)]\n",
    " \n",
    "                confidence = Game.Confidence_Interval(self,bandit_info,delta_dash*(k+1)/self.n,c,acq_func)\n",
    "                I = bandit_info.sample_mean - confidence\n",
    "                \n",
    "                    \n",
    "                if (I >= mean_threshold):\n",
    "                    k_list.append((i+1))\n",
    "\n",
    "            len_k = len(k_list)\n",
    "            if (len_k > K_LENGTH) and (len_k >= (k+1)):\n",
    "                self.St = k_list\n",
    "                #print(k)\n",
    "            \n",
    "        return self"
   ]
  },
  {
   "cell_type": "markdown",
   "metadata": {},
   "source": [
    "## Run Experiment"
   ]
  },
  {
   "cell_type": "code",
   "execution_count": 30,
   "metadata": {},
   "outputs": [
    {
     "name": "stdout",
     "output_type": "stream",
     "text": [
      "trial: 10\n",
      "Number of arm pulls: [2. 2. 2. 2. 2.]\n"
     ]
    },
    {
     "data": {
      "image/png": "[encoded data removed]",
      "text/plain": [
       "<Figure size 432x288 with 1 Axes>"
      ]
     },
     "metadata": {},
     "output_type": "display_data"
    },
    {
     "name": "stdout",
     "output_type": "stream",
     "text": [
      "trial: 100\n",
      "Number of arm pulls: [ 9. 18. 24. 22. 27.]\n"
     ]
    },
    {
     "data": {
      "image/png": "[encoded data removed]",
      "text/plain": [
       "<Figure size 432x288 with 1 Axes>"
      ]
     },
     "metadata": {},
     "output_type": "display_data"
    },
    {
     "name": "stdout",
     "output_type": "stream",
     "text": [
      "trial: 200\n",
      "Number of arm pulls: [11. 26. 33. 41. 89.]\n"
     ]
    },
    {
     "data": {
      "image/png": "[encoded data removed]",
      "text/plain": [
       "<Figure size 432x288 with 1 Axes>"
      ]
     },
     "metadata": {},
     "output_type": "display_data"
    },
    {
     "name": "stdout",
     "output_type": "stream",
     "text": [
      "trial: 300\n",
      "Number of arm pulls: [ 17.  40.  37.  96. 110.]\n"
     ]
    },
    {
     "data": {
      "image/png": "[encoded data removed]",
      "text/plain": [
       "<Figure size 432x288 with 1 Axes>"
      ]
     },
     "metadata": {},
     "output_type": "display_data"
    },
    {
     "name": "stdout",
     "output_type": "stream",
     "text": [
      "trial: 400\n",
      "Number of arm pulls: [ 23.  54.  40. 107. 176.]\n"
     ]
    },
    {
     "data": {
      "image/png": "[encoded data removed]",
      "text/plain": [
       "<Figure size 432x288 with 1 Axes>"
      ]
     },
     "metadata": {},
     "output_type": "display_data"
    },
    {
     "name": "stdout",
     "output_type": "stream",
     "text": [
      "trial: 500\n",
      "Number of arm pulls: [ 27.  71.  58. 168. 176.]\n"
     ]
    },
    {
     "data": {
      "image/png": "[encoded data removed]",
      "text/plain": [
       "<Figure size 432x288 with 1 Axes>"
      ]
     },
     "metadata": {},
     "output_type": "display_data"
    },
    {
     "name": "stdout",
     "output_type": "stream",
     "text": [
      "trial: 600\n",
      "Number of arm pulls: [ 35.  71.  90. 228. 176.]\n"
     ]
    },
    {
     "data": {
      "image/png": "[encoded data removed]",
      "text/plain": [
       "<Figure size 432x288 with 1 Axes>"
      ]
     },
     "metadata": {},
     "output_type": "display_data"
    }
   ],
   "source": [
    "G = Game(n,acq_func,delta,TPR)"
   ]
  },
  {
   "cell_type": "markdown",
   "metadata": {},
   "source": [
    "## Print out final arm stats"
   ]
  },
  {
   "cell_type": "code",
   "execution_count": 31,
   "metadata": {},
   "outputs": [
    {
     "name": "stdout",
     "output_type": "stream",
     "text": [
      "True and Sample Mean for each Arm\n",
      "Number of times each arm was pulled\n",
      "\n",
      "Arm: 1\n",
      "True mean: 0.2\n",
      "Sample mean: [0.33623398]\n",
      "Trials: 35\n",
      "\n",
      "Arm: 2\n",
      "True mean: 0.4\n",
      "Sample mean: [0.52876761]\n",
      "Trials: 71\n",
      "\n",
      "Arm: 3\n",
      "True mean: 0.6\n",
      "Sample mean: [0.58126874]\n",
      "Trials: 90\n",
      "\n",
      "Arm: 4\n",
      "True mean: 0.8\n",
      "Sample mean: [0.7449338]\n",
      "Trials: 228\n",
      "\n",
      "Arm: 5\n",
      "True mean: 1.0\n",
      "Sample mean: [0.97081226]\n",
      "Trials: 176\n"
     ]
    }
   ],
   "source": [
    "print(\"True and Sample Mean for each Arm\")\n",
    "print(\"Number of times each arm was pulled\")\n",
    "for i in range(n):\n",
    "    print(\"\")\n",
    "    print(\"Arm: \" + str(i+1))\n",
    "    print('True mean:', G.bandit_dictionary[str(i+1)].true_mean)\n",
    "    print('Sample mean:', G.bandit_dictionary[str(i+1)].sample_mean)\n",
    "    print('Trials:', G.bandit_dictionary[str(i+1)].bandit_trial)\n",
    "    "
   ]
  },
  {
   "cell_type": "code",
   "execution_count": 32,
   "metadata": {},
   "outputs": [
    {
     "name": "stdout",
     "output_type": "stream",
     "text": [
      "Arm's that are above threshold:\n",
      "[5]\n"
     ]
    }
   ],
   "source": [
    "print(\"Arm's that are above threshold:\")\n",
    "print(G.St)"
   ]
  },
  {
   "cell_type": "code",
   "execution_count": null,
   "metadata": {},
   "outputs": [],
   "source": []
  }
 ],
 "metadata": {
  "kernelspec": {
   "display_name": "Python 3.7.6 64-bit ('base': conda)",
   "language": "python",
   "name": "python37664bitbasecondaf25325b328344364a58c62b8b0a71554"
  },
  "language_info": {
   "codemirror_mode": {
    "name": "ipython",
    "version": 3
   },
   "file_extension": ".py",
   "mimetype": "text/x-python",
   "name": "python",
   "nbconvert_exporter": "python",
   "pygments_lexer": "ipython3",
   "version": "3.7.6"
  }
 },
 "nbformat": 4,
 "nbformat_minor": 4
}
